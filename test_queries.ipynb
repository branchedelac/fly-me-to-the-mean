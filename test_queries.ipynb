{
 "cells": [
  {
   "cell_type": "code",
   "execution_count": null,
   "metadata": {},
   "outputs": [],
   "source": [
    "import os\n",
    "import requests\n",
    "from dotenv import load_dotenv\n",
    "import pandas as pd\n",
    "load_dotenv()"
   ]
  },
  {
   "cell_type": "code",
   "execution_count": null,
   "metadata": {},
   "outputs": [],
   "source": [
    "ci_key = os.environ.get(\"CARBON_INTERFACE_KEY\")\n",
    "base_url = \"https://www.carboninterface.com/api/v1\"\n",
    "headers = {\n",
    "    \"Content-Type\": \"application/json\",\n",
    "    \"Authorization\": f\"Bearer {ci_key}\",\n",
    "}\n",
    "\n",
    "\n",
    "endpoint = f\"{base_url}/estimates\"\n",
    "body = {\n",
    "        \"type\": \"flight\",\n",
    "        \"passengers\": 1,\n",
    "        \"legs\": [\n",
    "            {\"departure_airport\": \"LHR\", \"destination_airport\": \"BCN\"},\n",
    "            {\"departure_airport\": \"GOT\", \"destination_airport\": \"BCN\"}\n",
    "        ],\n",
    "    }\n",
    "request = requests.post(endpoint, headers=headers, json=body)\n",
    "request.status_code\n",
    "request.text"
   ]
  },
  {
   "cell_type": "code",
   "execution_count": null,
   "metadata": {},
   "outputs": [],
   "source": [
    "trips = pd.Series(\n",
    "            {\"departure_airport\": \"GOT, LHR, CDG\"})\n",
    "trips"
   ]
  },
  {
   "cell_type": "code",
   "execution_count": null,
   "metadata": {},
   "outputs": [],
   "source": [
    "for departure in trips.departure_airport.split(\",\"):\n",
    "    print(departure.strip())\n"
   ]
  },
  {
   "cell_type": "code",
   "execution_count": null,
   "metadata": {},
   "outputs": [],
   "source": [
    "legs = []\n",
    "for departure in trips.departure_airport.split(\",\"):\n",
    "    legs.append(\n",
    "        {\n",
    "            \"departure_airport\": departure.strip(),\n",
    "            \"destination_airport\": \"BCN\",\n",
    "        }\n",
    "    )\n",
    "body = {\"type\": \"flight\", \"passengers\": 1, \"legs\": legs}\n",
    "print(body)\n"
   ]
  },
  {
   "cell_type": "code",
   "execution_count": null,
   "metadata": {},
   "outputs": [],
   "source": [
    "request = requests.post(endpoint, json=body, headers=headers)"
   ]
  },
  {
   "cell_type": "code",
   "execution_count": null,
   "metadata": {},
   "outputs": [],
   "source": [
    "print(request.text)"
   ]
  },
  {
   "cell_type": "code",
   "execution_count": null,
   "metadata": {},
   "outputs": [],
   "source": [
    "data = request.json()[\"data\"][\"attributes\"]\n",
    "trip_emissions = [{\"CO2 (kg)\": data[\"carbon_kg\"], \"CO2 (mt)\": data[\"carbon_mt\"]}]\n",
    "trip_emissions"
   ]
  },
  {
   "cell_type": "code",
   "execution_count": null,
   "metadata": {},
   "outputs": [],
   "source": [
    "pd.DataFrame.from_dict(trip_emissions)"
   ]
  },
  {
   "cell_type": "code",
   "execution_count": null,
   "metadata": {},
   "outputs": [],
   "source": [
    "request.text"
   ]
  },
  {
   "cell_type": "code",
   "execution_count": null,
   "metadata": {},
   "outputs": [],
   "source": [
    "data = request.json()[\"data\"][\"attributes\"]\n",
    "trip_emissions = {\"CO2 (kg)\": data[\"carbon_kg\"],\n",
    "                  \"CO2 (mt)\": data[\"carbon_mt\"]}\n",
    "trip_emissions"
   ]
  },
  {
   "cell_type": "code",
   "execution_count": null,
   "metadata": {},
   "outputs": [],
   "source": [
    "leg1 = {\n",
    "    \"data\": {\n",
    "        \"id\": \"fadb29cf-50bc-4369-9a33-152c5007dfc0\",\n",
    "        \"type\": \"estimate\",\n",
    "        \"attributes\": {\n",
    "            \"passengers\": 1,\n",
    "            \"legs\": [{\"departure_airport\": \"GOT\", \"destination_airport\": \"BCN\"}],\n",
    "            \"distance_value\": 2058.09,\n",
    "            \"distance_unit\": \"km\",\n",
    "            \"estimated_at\": \"2024-04-30T13:25:12.342Z\",\n",
    "            \"carbon_g\": 118392,\n",
    "            \"carbon_lb\": 261.01,\n",
    "            \"carbon_kg\": 118.39,\n",
    "            \"carbon_mt\": 0.12,\n",
    "        },\n",
    "    }\n",
    "}\n",
    "leg2 = {\n",
    "    \"data\": {\n",
    "        \"id\": \"22919fe5-110d-4321-87fa-c4074edeacd7\",\n",
    "        \"type\": \"estimate\",\n",
    "        \"attributes\": {\n",
    "            \"passengers\": 1,\n",
    "            \"legs\": [{\"departure_airport\": \"LHR\", \"destination_airport\": \"BCN\"}],\n",
    "            \"distance_value\": 1247.49,\n",
    "            \"distance_unit\": \"km\",\n",
    "            \"estimated_at\": \"2024-04-30T13:27:00.387Z\",\n",
    "            \"carbon_g\": 91822,\n",
    "            \"carbon_lb\": 202.43,\n",
    "            \"carbon_kg\": 91.82,\n",
    "            \"carbon_mt\": 0.09,\n",
    "        },\n",
    "    }\n",
    "}\n",
    "legs_combined = {\n",
    "    \"data\": {\n",
    "        \"id\": \"f8128e5d-1edf-44f5-83aa-7637e3b56b7e\",\n",
    "        \"type\": \"estimate\",\n",
    "        \"attributes\": {\n",
    "            \"passengers\": 1,\n",
    "            \"legs\": [\n",
    "                {\"departure_airport\": \"LHR\", \"destination_airport\": \"BCN\"},\n",
    "                {\"departure_airport\": \"GOT\", \"destination_airport\": \"BCN\"},\n",
    "            ],\n",
    "            \"distance_value\": 3305.58,\n",
    "            \"distance_unit\": \"km\",\n",
    "            \"estimated_at\": \"2024-04-30T13:27:34.565Z\",\n",
    "            \"carbon_g\": 210215,\n",
    "            \"carbon_lb\": 463.45,\n",
    "            \"carbon_kg\": 210.22,\n",
    "            \"carbon_mt\": 0.21,\n",
    "        },\n",
    "    }\n",
    "}"
   ]
  },
  {
   "cell_type": "code",
   "execution_count": null,
   "metadata": {},
   "outputs": [],
   "source": [
    "flights = pd.read_csv(\"flights_csv.csv\").drop(columns=\"Unnamed: 0\")\n",
    "flights.head(20)"
   ]
  },
  {
   "cell_type": "code",
   "execution_count": null,
   "metadata": {},
   "outputs": [],
   "source": [
    "# The below is not a great idea since it disconnets the row values from each other\n",
    "cheapest_per_combo = flights.groupby([\"airport_from\", \"airport_to\"]).agg(\"min\")\n",
    "cheapest_per_combo.head(1)"
   ]
  },
  {
   "cell_type": "code",
   "execution_count": null,
   "metadata": {},
   "outputs": [],
   "source": [
    "cheapest_combos = (\n",
    "    flights.sort_values(by=\"price\", ascending=True)\n",
    "    .groupby([\"city_from\", \"city_to\"])\n",
    "    .agg(\"first\")\n",
    ").reset_index()\n",
    "cheapest_combos.sort_values(by=[\"city_from\", \"city_to\"])"
   ]
  },
  {
   "cell_type": "code",
   "execution_count": null,
   "metadata": {},
   "outputs": [],
   "source": [
    "group_destinations = (\n",
    "    cheapest_combos.groupby([\"city_to\"])\n",
    "    .agg({\"price\": \"sum\"})\n",
    "    .sort_values(\"price\")\n",
    "    .reset_index()\n",
    ")\n",
    "group_destinations"
   ]
  },
  {
   "cell_type": "code",
   "execution_count": null,
   "metadata": {},
   "outputs": [],
   "source": [
    "cheapest_group_destination = group_destinations.iloc[0]\n",
    "print(\n",
    "    f'The cheapetst destination for you and your friends to meet is {cheapest_group_destination[\"city_to\"]}, '\n",
    "    f'at €{cheapest_group_destination[\"price\"]} in total or €{round((cheapest_group_destination[\"price\"]/3),2)} per person.'\n",
    ")"
   ]
  },
  {
   "cell_type": "code",
   "execution_count": null,
   "metadata": {},
   "outputs": [],
   "source": [
    "cheapest_combos.loc[cheapest_combos[\"city_to\"] == cheapest_group_destination[\"city_to\"]]"
   ]
  },
  {
   "cell_type": "code",
   "execution_count": null,
   "metadata": {},
   "outputs": [],
   "source": [
    "load_dotenv()\n",
    "kiwi_user = os.environ.get(\"KIWI_USER\")\n",
    "kiwi_key = os.environ.get(\"KIWI_KEY\")\n",
    "base_url = \"https://api.tequila.kiwi.com\"\n",
    "headers = {\"Content-Type\": \"application/json\", \"apikey\": kiwi_key}"
   ]
  },
  {
   "cell_type": "code",
   "execution_count": null,
   "metadata": {},
   "outputs": [],
   "source": [
    "params = {\n",
    "    \"term\": \"\",\n",
    "    \"limit\": 500,\n",
    "    \"sort\": \"name\",\n",
    "    \"active_only\": True,\n",
    "    \"source_popularity\": \"bookings\",\n",
    "}\n",
    "origins = [\"gothenburg_se\", \"barcelona_es\", \"paris_fr\", \"berlin_de\"]\n",
    "for i, city in enumerate(origins):\n",
    "    params[\"term\"] = city\n",
    "    res = requests.get(\n",
    "        f\"{base_url}/locations/topdestinations\", params=params, headers=headers\n",
    "    )\n",
    "    if res.status_code == 200:\n",
    "        data = res.json()\n",
    "        print(f\"{data['results_retrieved']} results retrieved for {city}\")\n",
    "        retrieved_locations = {location[\"id\"] for location in data[\"locations\"]}\n",
    "        retrieved_locations.add(city)\n",
    "        if i == 0:\n",
    "            all_results = retrieved_locations\n",
    "        else:\n",
    "            all_results = all_results.intersection(retrieved_locations)\n",
    "    else:\n",
    "        print(f\"Something went wrong for {city}! Status: {res.status_code}\")"
   ]
  },
  {
   "cell_type": "code",
   "execution_count": null,
   "metadata": {},
   "outputs": [],
   "source": [
    "print(\"Total number of common destinations:\", len(all_results))\n",
    "print(all_results)"
   ]
  },
  {
   "cell_type": "code",
   "execution_count": null,
   "metadata": {},
   "outputs": [],
   "source": [
    "endpoint = f\"{base_url}/locations\"\n",
    "query = f\"/query?term=London\"\n",
    "response = requests.get(url=endpoint + query, headers=headers)\n",
    "response.raise_for_status()\n",
    "city_data = response.json()\n",
    "print(response.status_code)\n",
    "print(city_data)"
   ]
  },
  {
   "cell_type": "code",
   "execution_count": null,
   "metadata": {},
   "outputs": [],
   "source": [
    "import datetime as dt\n",
    "\n",
    "endpoint = f\"{base_url}/v2/search?query=\"\n",
    "max_price = 1000\n",
    "today = dt.datetime.today()\n",
    "months_from_today = today + dt.timedelta(days=30)\n",
    "# from_date = self.today.strftime(\"%d/%m/%Y\")\n",
    "# to_date = self.months_from_today.strftime(\"%d/%m/%Y\")\n",
    "# stopovers = int(city_data[\"stopovers\"])\n",
    "params = {\n",
    "    \"fly_from\": \"paris_fr\",\n",
    "    \"fly_to\": \"berlin_de\",\n",
    "    \"date_from\": (today + dt.timedelta(days=7)).strftime(\"%d/%m/%Y\"),\n",
    "    \"date_to\": (today + dt.timedelta(days=14)).strftime(\"%d/%m/%Y\"),\n",
    "    \"price_to\": max_price,\n",
    "    \"nights_in_dst_from\": 3,\n",
    "    \"nights_in_dst_to\": 10,\n",
    "    \"one_for_city\": True,\n",
    "    \"one_per_date\": True,\n",
    "    \"curr\": \"EUR\",\n",
    "    \"max_stopovers\": 0,\n",
    "    \"limit\": 500,\n",
    "}\n",
    "response = requests.get(url=endpoint, params=params, headers=headers)\n",
    "response.raise_for_status()\n",
    "data = response.json()[\"data\"]"
   ]
  },
  {
   "cell_type": "code",
   "execution_count": null,
   "metadata": {},
   "outputs": [],
   "source": [
    "len(data)"
   ]
  },
  {
   "cell_type": "code",
   "execution_count": null,
   "metadata": {},
   "outputs": [],
   "source": [
    "print(response.json())"
   ]
  },
  {
   "cell_type": "code",
   "execution_count": null,
   "metadata": {},
   "outputs": [],
   "source": [
    "data\n",
    "\n",
    "for d in data:\n",
    "    print(d[\"cityTo\"])"
   ]
  },
  {
   "cell_type": "code",
   "execution_count": null,
   "metadata": {},
   "outputs": [],
   "source": [
    "\n",
    "    def __init__(self):\n",
    "        load_dotenv()\n",
    "        self.ci_key = os.environ.get(\"CARBON_INTERFACE_KEY\")\n",
    "        self.base_url = \"https://www.carboninterface.com/api/v1\"\n",
    "        self.headers = {\n",
    "            \"Content-Type\": \"application/json\",\n",
    "            \"Authorization\": f\"Bearer {self.ci_key}\",\n",
    "        }\n",
    "        self.today = dt.datetime.today()\n",
    "        self.months_from_today = self.today + dt.timedelta(days=30)\n",
    "\n",
    "    def estimate_flight_emissions(self, departure, destination):\n",
    "        endpoint = f\"{self.base_url}/estimates\"\n",
    "        body = {\n",
    "            \"type\": \"flight\",\n",
    "            \"passengers\": 1,\n",
    "            \"legs\": [\n",
    "                {\"departure_airport\": departure, \"destination_airport\": destination},\n",
    "            ],\n",
    "        }\n",
    "        request = requests.post(endpoint, json=body)"
   ]
  }
 ],
 "metadata": {
  "kernelspec": {
   "display_name": "env",
   "language": "python",
   "name": "python3"
  },
  "language_info": {
   "codemirror_mode": {
    "name": "ipython",
    "version": 3
   },
   "file_extension": ".py",
   "mimetype": "text/x-python",
   "name": "python",
   "nbconvert_exporter": "python",
   "pygments_lexer": "ipython3",
   "version": "3.11.0"
  }
 },
 "nbformat": 4,
 "nbformat_minor": 2
}
